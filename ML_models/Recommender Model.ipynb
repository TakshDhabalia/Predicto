{
 "cells": [
  {
   "cell_type": "code",
   "execution_count": 1,
   "metadata": {},
   "outputs": [],
   "source": [
    "from sklearn.feature_extraction.text import TfidfVectorizer\n",
    "from sklearn.metrics.pairwise import cosine_similarity\n",
    "import pandas as pd\n",
    "import numpy as np\n",
    "import json"
   ]
  },
  {
   "cell_type": "code",
   "execution_count": 4,
   "metadata": {},
   "outputs": [],
   "source": [
    "def getProductDetails():\n",
    "    \n",
    "    try:\n",
    "        with open(\"product_info.json\", 'r') as jsonFile:\n",
    "            data = json.load(jsonFile)\n",
    "        \n",
    "        schemaFields = data['schema']['fields']\n",
    "        column_names = []\n",
    "\n",
    "        dataObjects = data['data']\n",
    "\n",
    "        for i in range(0, len(schemaFields)):\n",
    "            column_names.append(schemaFields[i]['name'])\n",
    "\n",
    "        product_df = pd.DataFrame(data=dataObjects, columns=column_names)\n",
    "\n",
    "        return product_df\n",
    "\n",
    "        \n",
    "\n",
    "    except Exception as e:\n",
    "        print(e)"
   ]
  },
  {
   "cell_type": "code",
   "execution_count": 5,
   "metadata": {},
   "outputs": [],
   "source": [
    "product_df = getProductDetails()"
   ]
  },
  {
   "cell_type": "code",
   "execution_count": null,
   "metadata": {},
   "outputs": [],
   "source": [
    "vectorizer = TfidfVectorizer(stop_words=\"english\")\n",
    "product_vectors = vectorizer.fit_transform(product_df[\"Product Name\"])\n",
    "\n",
    "def recommend_products(query, top_k=10):\n",
    "    \"\"\"Finds the most relevant product IDs for a given query string.\"\"\"\n",
    "    query_vector = vectorizer.transform([query])  \n",
    "    similarity_scores = cosine_similarity(query_vector, product_vectors)  \n",
    "    top_indices = similarity_scores.argsort()[0][-top_k:][::-1]  # Get top-K product indices\n",
    "\n",
    "    recommended_products = product_df.iloc[top_indices][[\"Product ID\", \"Product Name\"]]\n",
    "    return recommended_products\n"
   ]
  },
  {
   "cell_type": "code",
   "execution_count": 51,
   "metadata": {},
   "outputs": [
    {
     "name": "stdout",
     "output_type": "stream",
     "text": [
      "           Product ID                               Product Name\n",
      "1829  TEC-MA-10003230                      Okidata C610n Printer\n",
      "1850  TEC-MA-10001856                      Okidata C610n Printer\n",
      "1864  TEC-MA-10000984                      Okidata MB760 Printer\n",
      "1880  TEC-MA-10003337                       Okidata B401 Printer\n",
      "1803  TEC-MA-10003176                       Okidata B400 Printer\n",
      "1511  TEC-MA-10001972                     Okidata C331dn Printer\n",
      "1576  TEC-MA-10001148        Okidata MB491 Multifunction Printer\n",
      "301   OFF-LA-10001074       Round Specialty Laser Printer Labels\n",
      "1160  TEC-MA-10000488                Bady BDG101FRU Card Printer\n",
      "1350  TEC-MA-10000112  Panasonic KX MB2061 Multifunction Printer\n"
     ]
    }
   ],
   "source": [
    "query = \"printer\"\n",
    "recommended_products = recommend_products(query)\n",
    "print(recommended_products)"
   ]
  }
 ],
 "metadata": {
  "kernelspec": {
   "display_name": "base",
   "language": "python",
   "name": "python3"
  },
  "language_info": {
   "codemirror_mode": {
    "name": "ipython",
    "version": 3
   },
   "file_extension": ".py",
   "mimetype": "text/x-python",
   "name": "python",
   "nbconvert_exporter": "python",
   "pygments_lexer": "ipython3",
   "version": "3.10.9"
  }
 },
 "nbformat": 4,
 "nbformat_minor": 2
}
